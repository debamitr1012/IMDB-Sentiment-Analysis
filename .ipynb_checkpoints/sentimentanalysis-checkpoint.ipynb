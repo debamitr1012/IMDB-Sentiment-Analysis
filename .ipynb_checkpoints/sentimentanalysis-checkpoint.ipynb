{
 "cells": [
  {
   "cell_type": "markdown",
   "id": "36163888",
   "metadata": {
    "papermill": {
     "duration": 0.012152,
     "end_time": "2023-01-30T03:51:10.561922",
     "exception": false,
     "start_time": "2023-01-30T03:51:10.549770",
     "status": "completed"
    },
    "tags": []
   },
   "source": [
    "## Learning about data"
   ]
  },
  {
   "cell_type": "code",
   "execution_count": 1,
   "id": "7435a21a",
   "metadata": {
    "execution": {
     "iopub.execute_input": "2023-01-30T03:51:10.590150Z",
     "iopub.status.busy": "2023-01-30T03:51:10.589716Z",
     "iopub.status.idle": "2023-01-30T03:51:12.307202Z",
     "shell.execute_reply": "2023-01-30T03:51:12.306080Z"
    },
    "papermill": {
     "duration": 1.735671,
     "end_time": "2023-01-30T03:51:12.310016",
     "exception": false,
     "start_time": "2023-01-30T03:51:10.574345",
     "status": "completed"
    },
    "tags": []
   },
   "outputs": [
    {
     "data": {
      "text/html": [
       "<div>\n",
       "<style scoped>\n",
       "    .dataframe tbody tr th:only-of-type {\n",
       "        vertical-align: middle;\n",
       "    }\n",
       "\n",
       "    .dataframe tbody tr th {\n",
       "        vertical-align: top;\n",
       "    }\n",
       "\n",
       "    .dataframe thead th {\n",
       "        text-align: right;\n",
       "    }\n",
       "</style>\n",
       "<table border=\"1\" class=\"dataframe\">\n",
       "  <thead>\n",
       "    <tr style=\"text-align: right;\">\n",
       "      <th></th>\n",
       "      <th>review</th>\n",
       "      <th>sentiment</th>\n",
       "    </tr>\n",
       "  </thead>\n",
       "  <tbody>\n",
       "    <tr>\n",
       "      <th>0</th>\n",
       "      <td>One of the other reviewers has mentioned that ...</td>\n",
       "      <td>positive</td>\n",
       "    </tr>\n",
       "    <tr>\n",
       "      <th>1</th>\n",
       "      <td>A wonderful little production. &lt;br /&gt;&lt;br /&gt;The...</td>\n",
       "      <td>positive</td>\n",
       "    </tr>\n",
       "    <tr>\n",
       "      <th>2</th>\n",
       "      <td>I thought this was a wonderful way to spend ti...</td>\n",
       "      <td>positive</td>\n",
       "    </tr>\n",
       "    <tr>\n",
       "      <th>3</th>\n",
       "      <td>Basically there's a family where a little boy ...</td>\n",
       "      <td>negative</td>\n",
       "    </tr>\n",
       "    <tr>\n",
       "      <th>4</th>\n",
       "      <td>Petter Mattei's \"Love in the Time of Money\" is...</td>\n",
       "      <td>positive</td>\n",
       "    </tr>\n",
       "  </tbody>\n",
       "</table>\n",
       "</div>"
      ],
      "text/plain": [
       "                                              review sentiment\n",
       "0  One of the other reviewers has mentioned that ...  positive\n",
       "1  A wonderful little production. <br /><br />The...  positive\n",
       "2  I thought this was a wonderful way to spend ti...  positive\n",
       "3  Basically there's a family where a little boy ...  negative\n",
       "4  Petter Mattei's \"Love in the Time of Money\" is...  positive"
      ]
     },
     "execution_count": 1,
     "metadata": {},
     "output_type": "execute_result"
    }
   ],
   "source": [
    "import numpy as np \n",
    "import pandas as pd\n",
    "data = pd.read_csv(\"C:/Users/91983/IMDB Dataset.csv/IMDB Dataset.csv\")\n",
    "data.head()"
   ]
  },
  {
   "cell_type": "code",
   "execution_count": 2,
   "id": "1b83ae81",
   "metadata": {
    "execution": {
     "iopub.execute_input": "2023-01-30T03:51:12.336418Z",
     "iopub.status.busy": "2023-01-30T03:51:12.335738Z",
     "iopub.status.idle": "2023-01-30T03:51:12.371906Z",
     "shell.execute_reply": "2023-01-30T03:51:12.370101Z"
    },
    "papermill": {
     "duration": 0.052797,
     "end_time": "2023-01-30T03:51:12.375012",
     "exception": false,
     "start_time": "2023-01-30T03:51:12.322215",
     "status": "completed"
    },
    "tags": []
   },
   "outputs": [
    {
     "name": "stdout",
     "output_type": "stream",
     "text": [
      "<class 'pandas.core.frame.DataFrame'>\n",
      "RangeIndex: 50000 entries, 0 to 49999\n",
      "Data columns (total 2 columns):\n",
      " #   Column     Non-Null Count  Dtype \n",
      "---  ------     --------------  ----- \n",
      " 0   review     50000 non-null  object\n",
      " 1   sentiment  50000 non-null  object\n",
      "dtypes: object(2)\n",
      "memory usage: 781.4+ KB\n"
     ]
    }
   ],
   "source": [
    "data.info()"
   ]
  },
  {
   "cell_type": "markdown",
   "id": "cf794a52",
   "metadata": {
    "papermill": {
     "duration": 0.011774,
     "end_time": "2023-01-30T03:51:12.399670",
     "exception": false,
     "start_time": "2023-01-30T03:51:12.387896",
     "status": "completed"
    },
    "tags": []
   },
   "source": [
    "__observation(obv)__ \n",
    "1) There are 50,000 entries in dataset \\\n",
    "2) There are two features __review__ and __sentiment__ \\\n",
    "3) Both features are __Object__ so they are basically __\"text\"__ \\\n",
    "4) Both features have 50K data in there respective column, so no __null__ value(i.e. there are no empty rows in features)"
   ]
  },
  {
   "cell_type": "code",
   "execution_count": 3,
   "id": "fcf6c074",
   "metadata": {
    "execution": {
     "iopub.execute_input": "2023-01-30T03:51:12.425524Z",
     "iopub.status.busy": "2023-01-30T03:51:12.425073Z",
     "iopub.status.idle": "2023-01-30T03:51:12.444730Z",
     "shell.execute_reply": "2023-01-30T03:51:12.443541Z"
    },
    "papermill": {
     "duration": 0.035488,
     "end_time": "2023-01-30T03:51:12.447185",
     "exception": false,
     "start_time": "2023-01-30T03:51:12.411697",
     "status": "completed"
    },
    "tags": []
   },
   "outputs": [
    {
     "data": {
      "text/plain": [
       "review       0\n",
       "sentiment    0\n",
       "dtype: int64"
      ]
     },
     "execution_count": 3,
     "metadata": {},
     "output_type": "execute_result"
    }
   ],
   "source": [
    "data.isnull().sum()"
   ]
  },
  {
   "cell_type": "code",
   "execution_count": 4,
   "id": "eb37f69b",
   "metadata": {
    "execution": {
     "iopub.execute_input": "2023-01-30T03:51:12.473808Z",
     "iopub.status.busy": "2023-01-30T03:51:12.472981Z",
     "iopub.status.idle": "2023-01-30T03:51:12.484580Z",
     "shell.execute_reply": "2023-01-30T03:51:12.483605Z"
    },
    "papermill": {
     "duration": 0.027463,
     "end_time": "2023-01-30T03:51:12.486826",
     "exception": false,
     "start_time": "2023-01-30T03:51:12.459363",
     "status": "completed"
    },
    "tags": []
   },
   "outputs": [
    {
     "data": {
      "text/plain": [
       "positive    25000\n",
       "negative    25000\n",
       "Name: sentiment, dtype: int64"
      ]
     },
     "execution_count": 4,
     "metadata": {},
     "output_type": "execute_result"
    }
   ],
   "source": [
    "data.sentiment.value_counts()"
   ]
  },
  {
   "cell_type": "code",
   "execution_count": 5,
   "id": "a6d450b6",
   "metadata": {
    "execution": {
     "iopub.execute_input": "2023-01-30T03:51:12.513479Z",
     "iopub.status.busy": "2023-01-30T03:51:12.512901Z",
     "iopub.status.idle": "2023-01-30T03:51:12.597918Z",
     "shell.execute_reply": "2023-01-30T03:51:12.597061Z"
    },
    "papermill": {
     "duration": 0.101251,
     "end_time": "2023-01-30T03:51:12.600264",
     "exception": false,
     "start_time": "2023-01-30T03:51:12.499013",
     "status": "completed"
    },
    "tags": []
   },
   "outputs": [
    {
     "data": {
      "text/plain": [
       "Loved today's show!!! It was a variety and not solely cooking (which would have been great too). Very stimulating and captivating, always keeping the viewer peeking around the corner to see what was coming up next. She is as down to earth and as personable as you get, like one of us which made the show all the more enjoyable. Special guests, who are friends as well made for a nice surprise too. Loved the 'first' theme and that the audience was invited to play along too. I must admit I was shocked to see her come in under her time limits on a few things, but she did it and by golly I'll be writing those recipes down. Saving time in the kitchen means more time with family. Those who haven't tuned in yet, find out what channel and the time, I assure you that you won't be disappointed.                                                                                                                                                                                                                                  5\n",
       "Hilarious, clean, light-hearted, and quote-worthy. What else can you ask for in a film? This is my all-time, number one favorite movie. Ever since I was a little girl, I've dreamed of owning a blue van with flames and an observation bubble.<br /><br />The cliché characters in ridiculous situations are what make this film such great fun. The wonderful comedic chemistry between Stephen Furst (Harold) and Andy Tennant (Melio) make up most of my favorite parts of the movie. And who didn't love the hopeless awkwardness of Flynch? Don't forget the airport antics of Leon's cronies, dressed up as Hari Krishnas: dancing, chanting and playing the tambourine--unbeatable! The clues are genius, the locations are classic, and the plot is timeless.<br /><br />A word to the wise, if you didn't watch this film when you were little, it probably won't win a place in your heart today. But nevertheless give it a chance, you may find that \"It doesn't matter what you say, it doesn't matter what you do, you've gotta play.\"    4\n",
       "Name: review, dtype: int64"
      ]
     },
     "execution_count": 5,
     "metadata": {},
     "output_type": "execute_result"
    }
   ],
   "source": [
    "data.review.value_counts().head(2)"
   ]
  },
  {
   "cell_type": "code",
   "execution_count": 6,
   "id": "3371c417",
   "metadata": {
    "execution": {
     "iopub.execute_input": "2023-01-30T03:51:12.627212Z",
     "iopub.status.busy": "2023-01-30T03:51:12.626495Z",
     "iopub.status.idle": "2023-01-30T03:51:12.833206Z",
     "shell.execute_reply": "2023-01-30T03:51:12.832078Z"
    },
    "papermill": {
     "duration": 0.223392,
     "end_time": "2023-01-30T03:51:12.836027",
     "exception": false,
     "start_time": "2023-01-30T03:51:12.612635",
     "status": "completed"
    },
    "tags": []
   },
   "outputs": [
    {
     "data": {
      "text/plain": [
       "False    49582\n",
       "True       418\n",
       "dtype: int64"
      ]
     },
     "execution_count": 6,
     "metadata": {},
     "output_type": "execute_result"
    }
   ],
   "source": [
    "data.duplicated().value_counts()"
   ]
  },
  {
   "cell_type": "markdown",
   "id": "0bae8067",
   "metadata": {
    "papermill": {
     "duration": 0.012288,
     "end_time": "2023-01-30T03:51:12.861558",
     "exception": false,
     "start_time": "2023-01-30T03:51:12.849270",
     "status": "completed"
    },
    "tags": []
   },
   "source": [
    "## Data Cleaning"
   ]
  },
  {
   "cell_type": "code",
   "execution_count": 7,
   "id": "1b432419",
   "metadata": {
    "execution": {
     "iopub.execute_input": "2023-01-30T03:51:12.888741Z",
     "iopub.status.busy": "2023-01-30T03:51:12.888299Z",
     "iopub.status.idle": "2023-01-30T03:51:12.893536Z",
     "shell.execute_reply": "2023-01-30T03:51:12.892230Z"
    },
    "papermill": {
     "duration": 0.021983,
     "end_time": "2023-01-30T03:51:12.896247",
     "exception": false,
     "start_time": "2023-01-30T03:51:12.874264",
     "status": "completed"
    },
    "tags": []
   },
   "outputs": [],
   "source": [
    "data = data.sample(30000)"
   ]
  },
  {
   "cell_type": "code",
   "execution_count": 8,
   "id": "101483db",
   "metadata": {
    "execution": {
     "iopub.execute_input": "2023-01-30T03:51:12.924261Z",
     "iopub.status.busy": "2023-01-30T03:51:12.923866Z",
     "iopub.status.idle": "2023-01-30T03:51:12.927900Z",
     "shell.execute_reply": "2023-01-30T03:51:12.927067Z"
    },
    "papermill": {
     "duration": 0.020832,
     "end_time": "2023-01-30T03:51:12.930287",
     "exception": false,
     "start_time": "2023-01-30T03:51:12.909455",
     "status": "completed"
    },
    "tags": []
   },
   "outputs": [
    {
     "name": "stdout",
     "output_type": "stream",
     "text": [
      "<class 'pandas.core.frame.DataFrame'>\n",
      "Int64Index: 30000 entries, 39272 to 29263\n",
      "Data columns (total 2 columns):\n",
      " #   Column     Non-Null Count  Dtype \n",
      "---  ------     --------------  ----- \n",
      " 0   review     30000 non-null  object\n",
      " 1   sentiment  30000 non-null  object\n",
      "dtypes: object(2)\n",
      "memory usage: 703.1+ KB\n"
     ]
    },
    {
     "data": {
      "text/plain": [
       "((30000, 2),\n",
       " None,\n",
       " positive    15045\n",
       " negative    14955\n",
       " Name: sentiment, dtype: int64)"
      ]
     },
     "execution_count": 8,
     "metadata": {},
     "output_type": "execute_result"
    }
   ],
   "source": [
    "data.shape, data.info(), data.sentiment.value_counts()"
   ]
  },
  {
   "cell_type": "code",
   "execution_count": 9,
   "id": "792483ea",
   "metadata": {
    "execution": {
     "iopub.execute_input": "2023-01-30T03:51:12.958755Z",
     "iopub.status.busy": "2023-01-30T03:51:12.957573Z",
     "iopub.status.idle": "2023-01-30T03:51:13.145247Z",
     "shell.execute_reply": "2023-01-30T03:51:13.144021Z"
    },
    "papermill": {
     "duration": 0.204882,
     "end_time": "2023-01-30T03:51:13.147948",
     "exception": false,
     "start_time": "2023-01-30T03:51:12.943066",
     "status": "completed"
    },
    "tags": []
   },
   "outputs": [],
   "source": [
    "data.drop_duplicates(inplace=True)"
   ]
  },
  {
   "cell_type": "code",
   "execution_count": 10,
   "id": "d044216c",
   "metadata": {
    "execution": {
     "iopub.execute_input": "2023-01-30T03:51:13.175724Z",
     "iopub.status.busy": "2023-01-30T03:51:13.175334Z",
     "iopub.status.idle": "2023-01-30T03:51:13.365957Z",
     "shell.execute_reply": "2023-01-30T03:51:13.364784Z"
    },
    "papermill": {
     "duration": 0.208099,
     "end_time": "2023-01-30T03:51:13.369338",
     "exception": false,
     "start_time": "2023-01-30T03:51:13.161239",
     "status": "completed"
    },
    "tags": []
   },
   "outputs": [
    {
     "data": {
      "text/plain": [
       "False    29843\n",
       "dtype: int64"
      ]
     },
     "execution_count": 10,
     "metadata": {},
     "output_type": "execute_result"
    }
   ],
   "source": [
    "data.duplicated().value_counts()"
   ]
  },
  {
   "cell_type": "code",
   "execution_count": 13,
   "id": "33b42136",
   "metadata": {
    "execution": {
     "iopub.execute_input": "2023-01-30T03:51:13.436616Z",
     "iopub.status.busy": "2023-01-30T03:51:13.435941Z",
     "iopub.status.idle": "2023-01-30T03:51:15.304797Z",
     "shell.execute_reply": "2023-01-30T03:51:15.303574Z"
    },
    "papermill": {
     "duration": 1.886604,
     "end_time": "2023-01-30T03:51:15.307767",
     "exception": false,
     "start_time": "2023-01-30T03:51:13.421163",
     "status": "completed"
    },
    "tags": []
   },
   "outputs": [],
   "source": [
    "import nltk\n",
    "from nltk.tokenize import word_tokenize\n",
    "from nltk.corpus import stopwords\n",
    "from nltk.stem.porter import PorterStemmer\n",
    "from bs4 import BeautifulSoup\n",
    "def clean_review(review, stemmer = PorterStemmer(), stop_words = set(stopwords.words(\"english\"))):\n",
    "    soup = BeautifulSoup(review, \"html.parser\")\n",
    "    no_html_review = soup.get_text().lower()\n",
    "    clean_text = []\n",
    "    for word in review.split():\n",
    "        if word not in stop_words and word.isalpha():\n",
    "            clean_text.append(stemmer.stem(word))\n",
    "    return \" \".join(clean_text)"
   ]
  },
  {
   "cell_type": "code",
   "execution_count": 14,
   "id": "4e829ed3",
   "metadata": {
    "execution": {
     "iopub.execute_input": "2023-01-30T03:51:15.337533Z",
     "iopub.status.busy": "2023-01-30T03:51:15.336601Z",
     "iopub.status.idle": "2023-01-30T03:53:46.438758Z",
     "shell.execute_reply": "2023-01-30T03:53:46.437471Z"
    },
    "papermill": {
     "duration": 151.120584,
     "end_time": "2023-01-30T03:53:46.442034",
     "exception": false,
     "start_time": "2023-01-30T03:51:15.321450",
     "status": "completed"
    },
    "tags": []
   },
   "outputs": [],
   "source": [
    "data.review = data.review.apply(clean_review)"
   ]
  },
  {
   "cell_type": "code",
   "execution_count": 15,
   "id": "4a0f771c",
   "metadata": {
    "execution": {
     "iopub.execute_input": "2023-01-30T03:53:46.471231Z",
     "iopub.status.busy": "2023-01-30T03:53:46.470215Z",
     "iopub.status.idle": "2023-01-30T03:53:46.478032Z",
     "shell.execute_reply": "2023-01-30T03:53:46.476688Z"
    },
    "papermill": {
     "duration": 0.024927,
     "end_time": "2023-01-30T03:53:46.480508",
     "exception": false,
     "start_time": "2023-01-30T03:53:46.455581",
     "status": "completed"
    },
    "tags": []
   },
   "outputs": [
    {
     "data": {
      "text/plain": [
       "'thi film everi child see grow get distort often pass idea gener gener i grew two differ place although mile i went school friend everi color creed religion first year then i move hillbilli countri unusu even one kid my graduat class high school i say you call honki whitey polit correct peev anyway back film give tri see happen peopl get distort view ignor lack understand cultur thi excel film everyon see especi'"
      ]
     },
     "execution_count": 15,
     "metadata": {},
     "output_type": "execute_result"
    }
   ],
   "source": [
    "data.review.iloc[3537]"
   ]
  },
  {
   "cell_type": "code",
   "execution_count": 16,
   "id": "0e15442d",
   "metadata": {
    "execution": {
     "iopub.execute_input": "2023-01-30T03:53:46.508966Z",
     "iopub.status.busy": "2023-01-30T03:53:46.508581Z",
     "iopub.status.idle": "2023-01-30T03:53:46.521634Z",
     "shell.execute_reply": "2023-01-30T03:53:46.520535Z"
    },
    "papermill": {
     "duration": 0.030391,
     "end_time": "2023-01-30T03:53:46.524045",
     "exception": false,
     "start_time": "2023-01-30T03:53:46.493654",
     "status": "completed"
    },
    "tags": []
   },
   "outputs": [
    {
     "data": {
      "text/html": [
       "<div>\n",
       "<style scoped>\n",
       "    .dataframe tbody tr th:only-of-type {\n",
       "        vertical-align: middle;\n",
       "    }\n",
       "\n",
       "    .dataframe tbody tr th {\n",
       "        vertical-align: top;\n",
       "    }\n",
       "\n",
       "    .dataframe thead th {\n",
       "        text-align: right;\n",
       "    }\n",
       "</style>\n",
       "<table border=\"1\" class=\"dataframe\">\n",
       "  <thead>\n",
       "    <tr style=\"text-align: right;\">\n",
       "      <th></th>\n",
       "      <th>review</th>\n",
       "      <th>sentiment</th>\n",
       "    </tr>\n",
       "  </thead>\n",
       "  <tbody>\n",
       "    <tr>\n",
       "      <th>39272</th>\n",
       "      <td>wast time mani much better movi start ok plot ...</td>\n",
       "      <td>negative</td>\n",
       "    </tr>\n",
       "    <tr>\n",
       "      <th>41228</th>\n",
       "      <td>as film i obvious read excruci review sarcast ...</td>\n",
       "      <td>positive</td>\n",
       "    </tr>\n",
       "    <tr>\n",
       "      <th>46270</th>\n",
       "      <td>unfortun bore obvious way see butcher bootleg ...</td>\n",
       "      <td>negative</td>\n",
       "    </tr>\n",
       "    <tr>\n",
       "      <th>27324</th>\n",
       "      <td>along rocket still repeat bbc tv earli mid if ...</td>\n",
       "      <td>positive</td>\n",
       "    </tr>\n",
       "    <tr>\n",
       "      <th>13406</th>\n",
       "      <td>there much bad say movi littl plot enough hole...</td>\n",
       "      <td>negative</td>\n",
       "    </tr>\n",
       "    <tr>\n",
       "      <th>...</th>\n",
       "      <td>...</td>\n",
       "      <td>...</td>\n",
       "    </tr>\n",
       "    <tr>\n",
       "      <th>11345</th>\n",
       "      <td>thi movi next segment pokemon movi suppli ever...</td>\n",
       "      <td>positive</td>\n",
       "    </tr>\n",
       "    <tr>\n",
       "      <th>1948</th>\n",
       "      <td>the small california town diablo plagu mysteri...</td>\n",
       "      <td>negative</td>\n",
       "    </tr>\n",
       "    <tr>\n",
       "      <th>23591</th>\n",
       "      <td>i saw film i franc i must say confus it stori ...</td>\n",
       "      <td>negative</td>\n",
       "    </tr>\n",
       "    <tr>\n",
       "      <th>4057</th>\n",
       "      <td>i heck good time view splendidli surpris erudi...</td>\n",
       "      <td>positive</td>\n",
       "    </tr>\n",
       "    <tr>\n",
       "      <th>29263</th>\n",
       "      <td>be fan seri i bad movi well i got some movi ne...</td>\n",
       "      <td>negative</td>\n",
       "    </tr>\n",
       "  </tbody>\n",
       "</table>\n",
       "<p>29843 rows × 2 columns</p>\n",
       "</div>"
      ],
      "text/plain": [
       "                                                  review sentiment\n",
       "39272  wast time mani much better movi start ok plot ...  negative\n",
       "41228  as film i obvious read excruci review sarcast ...  positive\n",
       "46270  unfortun bore obvious way see butcher bootleg ...  negative\n",
       "27324  along rocket still repeat bbc tv earli mid if ...  positive\n",
       "13406  there much bad say movi littl plot enough hole...  negative\n",
       "...                                                  ...       ...\n",
       "11345  thi movi next segment pokemon movi suppli ever...  positive\n",
       "1948   the small california town diablo plagu mysteri...  negative\n",
       "23591  i saw film i franc i must say confus it stori ...  negative\n",
       "4057   i heck good time view splendidli surpris erudi...  positive\n",
       "29263  be fan seri i bad movi well i got some movi ne...  negative\n",
       "\n",
       "[29843 rows x 2 columns]"
      ]
     },
     "execution_count": 16,
     "metadata": {},
     "output_type": "execute_result"
    }
   ],
   "source": [
    "data"
   ]
  },
  {
   "cell_type": "markdown",
   "id": "f139fe44",
   "metadata": {
    "papermill": {
     "duration": 0.013175,
     "end_time": "2023-01-30T03:53:46.550810",
     "exception": false,
     "start_time": "2023-01-30T03:53:46.537635",
     "status": "completed"
    },
    "tags": []
   },
   "source": [
    "## Vectorizer"
   ]
  },
  {
   "cell_type": "code",
   "execution_count": 17,
   "id": "7f1045fe",
   "metadata": {
    "execution": {
     "iopub.execute_input": "2023-01-30T03:53:46.580059Z",
     "iopub.status.busy": "2023-01-30T03:53:46.579662Z",
     "iopub.status.idle": "2023-01-30T03:53:46.584763Z",
     "shell.execute_reply": "2023-01-30T03:53:46.583492Z"
    },
    "papermill": {
     "duration": 0.022845,
     "end_time": "2023-01-30T03:53:46.587062",
     "exception": false,
     "start_time": "2023-01-30T03:53:46.564217",
     "status": "completed"
    },
    "tags": []
   },
   "outputs": [],
   "source": [
    "from sklearn.feature_extraction.text import CountVectorizer\n",
    "cv = CountVectorizer(max_features=5000)"
   ]
  },
  {
   "cell_type": "code",
   "execution_count": 18,
   "id": "71f5e83a",
   "metadata": {
    "execution": {
     "iopub.execute_input": "2023-01-30T03:53:46.615837Z",
     "iopub.status.busy": "2023-01-30T03:53:46.615422Z",
     "iopub.status.idle": "2023-01-30T03:53:52.328883Z",
     "shell.execute_reply": "2023-01-30T03:53:52.327403Z"
    },
    "papermill": {
     "duration": 5.731507,
     "end_time": "2023-01-30T03:53:52.331989",
     "exception": false,
     "start_time": "2023-01-30T03:53:46.600482",
     "status": "completed"
    },
    "tags": []
   },
   "outputs": [],
   "source": [
    "X = cv.fit_transform(data.review).toarray()"
   ]
  },
  {
   "cell_type": "code",
   "execution_count": 19,
   "id": "862baebe",
   "metadata": {
    "execution": {
     "iopub.execute_input": "2023-01-30T03:53:52.360901Z",
     "iopub.status.busy": "2023-01-30T03:53:52.360479Z",
     "iopub.status.idle": "2023-01-30T03:53:52.367737Z",
     "shell.execute_reply": "2023-01-30T03:53:52.366523Z"
    },
    "papermill": {
     "duration": 0.024752,
     "end_time": "2023-01-30T03:53:52.370376",
     "exception": false,
     "start_time": "2023-01-30T03:53:52.345624",
     "status": "completed"
    },
    "tags": []
   },
   "outputs": [
    {
     "data": {
      "text/plain": [
       "(29843, 5000)"
      ]
     },
     "execution_count": 19,
     "metadata": {},
     "output_type": "execute_result"
    }
   ],
   "source": [
    "X.shape"
   ]
  },
  {
   "cell_type": "code",
   "execution_count": 20,
   "id": "389d9dea",
   "metadata": {
    "execution": {
     "iopub.execute_input": "2023-01-30T03:53:52.399364Z",
     "iopub.status.busy": "2023-01-30T03:53:52.398910Z",
     "iopub.status.idle": "2023-01-30T03:53:52.420691Z",
     "shell.execute_reply": "2023-01-30T03:53:52.419480Z"
    },
    "papermill": {
     "duration": 0.039596,
     "end_time": "2023-01-30T03:53:52.423654",
     "exception": false,
     "start_time": "2023-01-30T03:53:52.384058",
     "status": "completed"
    },
    "tags": []
   },
   "outputs": [],
   "source": [
    "from sklearn.preprocessing import LabelEncoder\n",
    "lb = LabelEncoder()\n",
    "data.sentiment = lb.fit_transform(data.sentiment)"
   ]
  },
  {
   "cell_type": "code",
   "execution_count": 21,
   "id": "85a0905e",
   "metadata": {
    "execution": {
     "iopub.execute_input": "2023-01-30T03:53:52.452934Z",
     "iopub.status.busy": "2023-01-30T03:53:52.452281Z",
     "iopub.status.idle": "2023-01-30T03:53:52.457528Z",
     "shell.execute_reply": "2023-01-30T03:53:52.456684Z"
    },
    "papermill": {
     "duration": 0.022592,
     "end_time": "2023-01-30T03:53:52.459897",
     "exception": false,
     "start_time": "2023-01-30T03:53:52.437305",
     "status": "completed"
    },
    "tags": []
   },
   "outputs": [],
   "source": [
    "y = data.iloc[:,-1].values"
   ]
  },
  {
   "cell_type": "code",
   "execution_count": 22,
   "id": "52c54fc5",
   "metadata": {
    "execution": {
     "iopub.execute_input": "2023-01-30T03:53:52.489226Z",
     "iopub.status.busy": "2023-01-30T03:53:52.488558Z",
     "iopub.status.idle": "2023-01-30T03:53:52.495146Z",
     "shell.execute_reply": "2023-01-30T03:53:52.494202Z"
    },
    "papermill": {
     "duration": 0.023867,
     "end_time": "2023-01-30T03:53:52.497376",
     "exception": false,
     "start_time": "2023-01-30T03:53:52.473509",
     "status": "completed"
    },
    "tags": []
   },
   "outputs": [
    {
     "data": {
      "text/plain": [
       "(29843,)"
      ]
     },
     "execution_count": 22,
     "metadata": {},
     "output_type": "execute_result"
    }
   ],
   "source": [
    "y.shape"
   ]
  },
  {
   "cell_type": "markdown",
   "id": "0841dea7",
   "metadata": {
    "papermill": {
     "duration": 0.013217,
     "end_time": "2023-01-30T03:53:52.524222",
     "exception": false,
     "start_time": "2023-01-30T03:53:52.511005",
     "status": "completed"
    },
    "tags": []
   },
   "source": [
    "## Model Building"
   ]
  },
  {
   "cell_type": "code",
   "execution_count": 23,
   "id": "28307b46",
   "metadata": {
    "execution": {
     "iopub.execute_input": "2023-01-30T03:53:52.554710Z",
     "iopub.status.busy": "2023-01-30T03:53:52.554031Z",
     "iopub.status.idle": "2023-01-30T03:53:53.405742Z",
     "shell.execute_reply": "2023-01-30T03:53:53.404406Z"
    },
    "papermill": {
     "duration": 0.870602,
     "end_time": "2023-01-30T03:53:53.408612",
     "exception": false,
     "start_time": "2023-01-30T03:53:52.538010",
     "status": "completed"
    },
    "tags": []
   },
   "outputs": [],
   "source": [
    "from sklearn.model_selection import train_test_split\n",
    "train_X, test_X, train_Y, test_Y = train_test_split(X, y, test_size=0.2, random_state=42, stratify=data.sentiment)"
   ]
  },
  {
   "cell_type": "code",
   "execution_count": 24,
   "id": "eedaab5a",
   "metadata": {
    "execution": {
     "iopub.execute_input": "2023-01-30T03:53:53.438226Z",
     "iopub.status.busy": "2023-01-30T03:53:53.437798Z",
     "iopub.status.idle": "2023-01-30T03:54:02.990420Z",
     "shell.execute_reply": "2023-01-30T03:54:02.989142Z"
    },
    "papermill": {
     "duration": 9.570624,
     "end_time": "2023-01-30T03:54:02.992872",
     "exception": false,
     "start_time": "2023-01-30T03:53:53.422248",
     "status": "completed"
    },
    "tags": []
   },
   "outputs": [
    {
     "data": {
      "text/plain": [
       "BernoulliNB()"
      ]
     },
     "execution_count": 24,
     "metadata": {},
     "output_type": "execute_result"
    }
   ],
   "source": [
    "from sklearn.naive_bayes import GaussianNB, MultinomialNB, BernoulliNB\n",
    "clf1 = GaussianNB()\n",
    "clf2 = MultinomialNB()\n",
    "clf3 = BernoulliNB()\n",
    "clf1.fit(train_X, train_Y)\n",
    "clf2.fit(train_X, train_Y)\n",
    "clf3.fit(train_X, train_Y)"
   ]
  },
  {
   "cell_type": "code",
   "execution_count": 25,
   "id": "6cb7be93",
   "metadata": {
    "execution": {
     "iopub.execute_input": "2023-01-30T03:54:03.023965Z",
     "iopub.status.busy": "2023-01-30T03:54:03.023508Z",
     "iopub.status.idle": "2023-01-30T03:54:04.599224Z",
     "shell.execute_reply": "2023-01-30T03:54:04.597566Z"
    },
    "papermill": {
     "duration": 1.595609,
     "end_time": "2023-01-30T03:54:04.603696",
     "exception": false,
     "start_time": "2023-01-30T03:54:03.008087",
     "status": "completed"
    },
    "tags": []
   },
   "outputs": [],
   "source": [
    "predict1 = clf1.predict(test_X)\n",
    "predict2 = clf2.predict(test_X)\n",
    "predict3 = clf3.predict(test_X)"
   ]
  },
  {
   "cell_type": "code",
   "execution_count": 26,
   "id": "7bb3c937",
   "metadata": {
    "execution": {
     "iopub.execute_input": "2023-01-30T03:54:04.674133Z",
     "iopub.status.busy": "2023-01-30T03:54:04.673433Z",
     "iopub.status.idle": "2023-01-30T03:54:04.693850Z",
     "shell.execute_reply": "2023-01-30T03:54:04.692273Z"
    },
    "papermill": {
     "duration": 0.060808,
     "end_time": "2023-01-30T03:54:04.698718",
     "exception": false,
     "start_time": "2023-01-30T03:54:04.637910",
     "status": "completed"
    },
    "tags": []
   },
   "outputs": [
    {
     "name": "stdout",
     "output_type": "stream",
     "text": [
      "Gaussin NaiveBayes: 0.6952588373261853\n",
      "Multinomial NaiveBayes: 0.823756073044061\n",
      "Benouli NaiveBayes: 0.8210755570447311\n"
     ]
    }
   ],
   "source": [
    "from sklearn.metrics import accuracy_score\n",
    "print(\"Gaussin NaiveBayes:\", accuracy_score(predict1, test_Y))\n",
    "print(\"Multinomial NaiveBayes:\", accuracy_score(predict2, test_Y))\n",
    "print(\"Benouli NaiveBayes:\", accuracy_score(predict3, test_Y))"
   ]
  },
  {
   "cell_type": "markdown",
   "id": "b98257d6",
   "metadata": {
    "papermill": {
     "duration": 0.013322,
     "end_time": "2023-01-30T03:54:04.762881",
     "exception": false,
     "start_time": "2023-01-30T03:54:04.749559",
     "status": "completed"
    },
    "tags": []
   },
   "source": [
    "## Deployment"
   ]
  },
  {
   "cell_type": "code",
   "execution_count": 27,
   "id": "a628eb65",
   "metadata": {
    "execution": {
     "iopub.execute_input": "2023-01-30T03:54:04.791761Z",
     "iopub.status.busy": "2023-01-30T03:54:04.791317Z",
     "iopub.status.idle": "2023-01-30T03:54:19.797595Z",
     "shell.execute_reply": "2023-01-30T03:54:19.796242Z"
    },
    "papermill": {
     "duration": 15.024446,
     "end_time": "2023-01-30T03:54:19.800875",
     "exception": false,
     "start_time": "2023-01-30T03:54:04.776429",
     "status": "completed"
    },
    "tags": []
   },
   "outputs": [
    {
     "name": "stderr",
     "output_type": "stream",
     "text": [
      "c:\\Users\\91983\\AppData\\Local\\Programs\\Python\\Python39\\lib\\site-packages\\sklearn\\utils\\deprecation.py:87: FutureWarning: Function get_feature_names is deprecated; get_feature_names is deprecated in 1.0 and will be removed in 1.2. Please use get_feature_names_out instead.\n",
      "  warnings.warn(msg, category=FutureWarning)\n"
     ]
    }
   ],
   "source": [
    "features_dict = {}\n",
    "for i in range(len(cv.get_feature_names())):\n",
    "    features_dict[cv.get_feature_names()[i]] = i"
   ]
  },
  {
   "cell_type": "code",
   "execution_count": 28,
   "id": "0552a2c4",
   "metadata": {
    "execution": {
     "iopub.execute_input": "2023-01-30T03:54:19.860276Z",
     "iopub.status.busy": "2023-01-30T03:54:19.859837Z",
     "iopub.status.idle": "2023-01-30T03:54:19.865157Z",
     "shell.execute_reply": "2023-01-30T03:54:19.863859Z"
    },
    "papermill": {
     "duration": 0.02357,
     "end_time": "2023-01-30T03:54:19.867716",
     "exception": false,
     "start_time": "2023-01-30T03:54:19.844146",
     "status": "completed"
    },
    "tags": []
   },
   "outputs": [],
   "source": [
    "import pickle"
   ]
  },
  {
   "cell_type": "code",
   "execution_count": 29,
   "id": "54140bb9",
   "metadata": {
    "execution": {
     "iopub.execute_input": "2023-01-30T03:54:19.897591Z",
     "iopub.status.busy": "2023-01-30T03:54:19.897142Z",
     "iopub.status.idle": "2023-01-30T03:54:19.999537Z",
     "shell.execute_reply": "2023-01-30T03:54:19.998158Z"
    },
    "papermill": {
     "duration": 0.120602,
     "end_time": "2023-01-30T03:54:20.002589",
     "exception": false,
     "start_time": "2023-01-30T03:54:19.881987",
     "status": "completed"
    },
    "tags": []
   },
   "outputs": [],
   "source": [
    "pickle.dump(data, open(\"dataframe.pkl\", \"wb\"))"
   ]
  },
  {
   "cell_type": "code",
   "execution_count": 30,
   "id": "b22c7f66",
   "metadata": {
    "execution": {
     "iopub.execute_input": "2023-01-30T03:54:20.032238Z",
     "iopub.status.busy": "2023-01-30T03:54:20.031800Z",
     "iopub.status.idle": "2023-01-30T03:54:20.038840Z",
     "shell.execute_reply": "2023-01-30T03:54:20.037562Z"
    },
    "papermill": {
     "duration": 0.025115,
     "end_time": "2023-01-30T03:54:20.041592",
     "exception": false,
     "start_time": "2023-01-30T03:54:20.016477",
     "status": "completed"
    },
    "tags": []
   },
   "outputs": [],
   "source": [
    "pickle.dump(features_dict, open(\"features_dict.pkl\", \"wb\"))"
   ]
  }
 ],
 "metadata": {
  "kernelspec": {
   "display_name": "Python 3 (ipykernel)",
   "language": "python",
   "name": "python3"
  },
  "language_info": {
   "codemirror_mode": {
    "name": "ipython",
    "version": 3
   },
   "file_extension": ".py",
   "mimetype": "text/x-python",
   "name": "python",
   "nbconvert_exporter": "python",
   "pygments_lexer": "ipython3",
   "version": "3.9.12"
  },
  "papermill": {
   "default_parameters": {},
   "duration": 199.719463,
   "end_time": "2023-01-30T03:54:21.201910",
   "environment_variables": {},
   "exception": null,
   "input_path": "__notebook__.ipynb",
   "output_path": "__notebook__.ipynb",
   "parameters": {},
   "start_time": "2023-01-30T03:51:01.482447",
   "version": "2.3.4"
  }
 },
 "nbformat": 4,
 "nbformat_minor": 5
}
